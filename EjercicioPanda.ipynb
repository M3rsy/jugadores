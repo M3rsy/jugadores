{
  "nbformat": 4,
  "nbformat_minor": 0,
  "metadata": {
    "colab": {
      "name": "EjercicioPanda.ipynb",
      "provenance": [],
      "collapsed_sections": [],
      "authorship_tag": "ABX9TyOaOpf5aZ79YQ0iJS1JmVc4",
      "include_colab_link": true
    },
    "kernelspec": {
      "name": "python3",
      "display_name": "Python 3"
    },
    "language_info": {
      "name": "python"
    }
  },
  "cells": [
    {
      "cell_type": "markdown",
      "metadata": {
        "id": "view-in-github",
        "colab_type": "text"
      },
      "source": [
        "<a href=\"https://colab.research.google.com/github/M3rsy/jugadores/blob/main/EjercicioPanda.ipynb\" target=\"_parent\"><img src=\"https://colab.research.google.com/assets/colab-badge.svg\" alt=\"Open In Colab\"/></a>"
      ]
    },
    {
      "cell_type": "markdown",
      "metadata": {
        "id": "_V4WzYjfS3ko"
      },
      "source": [
        "Escribir una función que reciba un diccionario con las notas de los alumnos en curso en un examen y devuelva una serie con la nota mínima, la máxima, media y la desviación típica."
      ]
    },
    {
      "cell_type": "code",
      "metadata": {
        "id": "acWI658ASia2"
      },
      "source": [
        "    import pandas as pd\n",
        "\n",
        "def nota_total(notas):\n",
        "    notas = pd.Series(notas)\n",
        "    est = pd.Series([notas.min(), notas.max(), notas.mean(), notas.std()], index=['Min', 'Max', 'Media', 'Desviación típica'])\n",
        "    return est\n",
        "\n",
        "notas = {'Cesar':6, 'Juan Carlos':10, 'Manuel':5, 'Bertilia':7, 'Francisco': 8.9}\n",
        "print(nota_total(notas))"
      ],
      "execution_count": null,
      "outputs": []
    },
    {
      "cell_type": "markdown",
      "metadata": {
        "id": "u8Gm_AuCS_aL"
      },
      "source": [
        "Escribir una función que reciba una diccionario con las notas de los alumnos en curso en un examen y devuelva una serie con las notas de los alumnos aprobados ordenadas de mayor a menor.\n"
      ]
    },
    {
      "cell_type": "code",
      "metadata": {
        "id": "5OK1VZKTTDCD"
      },
      "source": [
        "import pandas as pd\n",
        "\n",
        "def aprobado(nota):\n",
        "    nota = pd.Series(nota)\n",
        "    return nota[nota >= 5].sort_values(ascending=False)\n",
        "\n",
        "nota = {'Marielena':10, 'Jesus':4, 'Samuel':7, 'Angel': 9, 'Sebastian': 9.3}\n",
        "print(aprobado(nota))"
      ],
      "execution_count": null,
      "outputs": []
    },
    {
      "cell_type": "markdown",
      "metadata": {
        "id": "jTXUd_VwTJYD"
      },
      "source": [
        "Escribir programa que genere y muestre por pantalla un DataFrame con los datos de la tabla siguiente:"
      ]
    },
    {
      "cell_type": "code",
      "metadata": {
        "id": "kVr-M3s-TNPO"
      },
      "source": [
        "import pandas as pd\n",
        "\n",
        "datos = {'Mes':['Enero', 'Febrero', 'Marzo', 'Abril'], 'Ventas':[70222, 18943, 34254, 12335], 'Gastos':[53456, 75674, 34552, 56756]}\n",
        "tabla = pd.DataFrame(datos)\n",
        "print(tabla)"
      ],
      "execution_count": null,
      "outputs": []
    },
    {
      "cell_type": "markdown",
      "metadata": {
        "id": "_gxtEyq7TUjN"
      },
      "source": [
        "El archivo titanic.csv contiene información sobre los pasajeros del\n",
        "Titanic. Escribir un programa en Google colab con los siguientes requisitos:\n",
        "\n",
        "1. Generar un DataFrame con los datos del fichero.\n",
        "2. Mostrar por pantalla las , las 10 primeras filas y las 10 últimas filas\n",
        "3. Mostrar por pantalla los datos del pasajero con identificador\n",
        "148.\n",
        "4. Mostrar por pantalla las filas pares del DataFrame.\n",
        "5. Mostrar por pantalla los nombres de las personas que iban en primera clase ordenadas alfabéticamente.\n",
        "6. Mostrar por pantalla el porcentaje de personas que sobrevivieron y murieron.\n",
        "7. Mostrar por pantalla el porcentaje de personas que sobrevivieron en cada clase.\n",
        "8. Eliminar del DataFrame los pasajeros con edad desconocida.\n",
        "9. Mostrar por pantalla la edad media de las mujeres que viajaban en cada clase.\n",
        "10.\tAñadir una nueva columna booleana para ver si el pasajero era menor de edad o no.\n",
        "11.\tMostrar por pantalla el porcentaje de menores y mayores de edad que sobrevivieron en cada clase.\n"
      ]
    },
    {
      "cell_type": "code",
      "metadata": {
        "id": "ScYBg66mTZ-o"
      },
      "source": [
        "import pandas as pd\n",
        "#LINK DE CSV\n",
        "#inciso 1\n",
        "titanic = pd.read_csv('https://gist.githubusercontent.com/jwalsh/ce1dc0436aba5b7a5c9666f47fa5a380/raw/5ce3854392b43ff97907112d344fc008229b0445/titanic.csv', index_col=0)\n",
        "print(titanic)\n",
        "#inciso 2\n",
        "print('Las Dimensiones:', titanic.shape)\n",
        "print('Número en elementos:', titanic.size)\n",
        "print('Nombres en columnas:', titanic.columns)\n",
        "print('Nombres en filas:', titanic.index)\n",
        "print('Tipos en datos:\\n', titanic.dtypes)\n",
        "print('Primeras 10 filas:\\n', titanic.head(10)) #tail hace que se ve lo primero 10\n",
        "print('Últimas 10 filas:\\n', titanic.tail(10)) #tail hace que se vea los ultimos 10\n",
        "\n",
        "#inciso 3\n",
        "print(titanic.loc[148]) #Busca pasajero con numero#48\n",
        "\n",
        "#inciso 4\n",
        "print(titanic.iloc[range(0,titanic.shape[0],2)]) #usamos .iloc para indexear y usar un rage y selecion columna\n",
        "\n",
        "#inciso 5\n",
        "print(titanic[titanic[\"Pclass\"]==1]['Name'].sort_values()) #indea de forma alfabetica, que muestra primero 1 clase\n",
        "\n",
        "#inciso 6\n",
        "print(titanic['Survived'].value_counts()/titanic['Survived'].count() * 100) #% Personas muertas o vivas a nivel global\n",
        "\n",
        "#inciso 7\n",
        "print(titanic.groupby('Pclass')['Survived'].value_counts(normalize=True)) #Las que sobrevieron por cada clase\n",
        "\n",
        "#inciso 8\n",
        "titanic.dropna(subset=['Age']) #usamo subset y .dropna para  eliminar del dataframe dicho datos\n",
        "\n",
        "#inciso 9\n",
        "print(titanic.groupby(['Pclass','Sex'])['Age'].mean().unstack()['female']) #Muestra edad media de las muejeres en el barco\n",
        "\n",
        "#inciso 10\n",
        "titanic['Young'] = titanic['Age'] < 18 # se anade una columna boolean para usarla en inciso 11\n",
        "\n",
        "#inciso 11\n",
        "print(titanic.groupby(['Pclass', 'Young'])['Survived'].value_counts(normalize = True) * 100)\n"
      ],
      "execution_count": null,
      "outputs": []
    }
  ]
}