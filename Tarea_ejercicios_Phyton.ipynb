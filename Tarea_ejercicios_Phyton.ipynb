{
  "nbformat": 4,
  "nbformat_minor": 0,
  "metadata": {
    "colab": {
      "name": "Tarea ejercicios Phyton.ipynb",
      "provenance": [],
      "include_colab_link": true
    },
    "kernelspec": {
      "name": "python3",
      "display_name": "Python 3"
    },
    "language_info": {
      "name": "python"
    }
  },
  "cells": [
    {
      "cell_type": "markdown",
      "metadata": {
        "id": "view-in-github",
        "colab_type": "text"
      },
      "source": [
        "<a href=\"https://colab.research.google.com/github/M3rsy/jugadores/blob/main/Tarea_ejercicios_Phyton.ipynb\" target=\"_parent\"><img src=\"https://colab.research.google.com/assets/colab-badge.svg\" alt=\"Open In Colab\"/></a>"
      ]
    },
    {
      "cell_type": "markdown",
      "metadata": {
        "id": "L2zxRvE-Ld5Q"
      },
      "source": [
        "Ejercicio 1 (EDAD) TAREA PHYTON"
      ]
    },
    {
      "cell_type": "code",
      "metadata": {
        "id": "OnegZyuIp_wt"
      },
      "source": [
        "edad = int(input('Escriba su edad:'))\n",
        "print('Escriba F si es Femenino \\nEscriba M si es Masculino')\n",
        "sexo = input('Cual es su sexo?:')\n",
        "if edad < 18:\n",
        "    print('AUN NO PUEDE VOTAR')\n",
        "elif sexo == 'm' and (edad>=18 and edad<=30):\n",
        "        print('VOTARA EN EL SALON A')\n",
        "elif sexo == 'm'  and (edad>=31 and edad<=59):\n",
        "        print('USTED VOTARA EN EL SALON B')\n",
        "elif edad >= 60:\n",
        "        print('USTED VOTARA EN EL SALON C')\n",
        "elif sexo == 'f' and (edad>=18 and edad<=30):\n",
        "        print('USTED VOTARA EN EL SALON D')\n",
        "elif sexo == 'f'  and (edad>=31 and edad<=59):\n",
        "        print('USTED VOTARA EN EL SALON B')"
      ],
      "execution_count": null,
      "outputs": []
    },
    {
      "cell_type": "markdown",
      "metadata": {
        "id": "Up7HZI80wcQ4"
      },
      "source": [
        "Ejercicio 2"
      ]
    },
    {
      "cell_type": "code",
      "metadata": {
        "id": "mOxyuxqRweeN"
      },
      "source": [
        "numeros = []\n",
        "for i in range(3):\n",
        "    numero = float(input(\"Introduce el numero #{}:\".format(i + 1)))\n",
        "    numeros.append(numero)\n",
        "\n",
        "mayor = numeros[0]\n",
        "for numero  in numeros:\n",
        "    if numero > mayor:\n",
        "        mayor = numero\n",
        "        print(\"El numero mayor es:\" ,mayor)"
      ],
      "execution_count": null,
      "outputs": []
    },
    {
      "cell_type": "markdown",
      "metadata": {
        "id": "hcDN1mzdxYik"
      },
      "source": [
        "Ejerciccio 3"
      ]
    },
    {
      "cell_type": "code",
      "metadata": {
        "id": "a2uilMdRxaTL"
      },
      "source": [
        "def es_vocal (c):\n",
        "    if c == \"a\" or c == \"e\" or c == \"i\" or c == \"o\" or c== \"u\":\n",
        "        return True\n",
        "\n",
        "    elif c == \"A\" or c == \"E\" or c == \"I\" or c == \"O\" or c == \"U\":\n",
        "        return True\n",
        "\n",
        "    return False\n",
        "\n",
        "caracter = input(\"introduce una letra por favor: \")\n",
        "print(es_vocal(caracter))"
      ],
      "execution_count": null,
      "outputs": []
    },
    {
      "cell_type": "markdown",
      "metadata": {
        "id": "-7eaXY6SxvJa"
      },
      "source": [
        "Ejercicio 4"
      ]
    },
    {
      "cell_type": "code",
      "metadata": {
        "id": "q01G3IHZxxlZ"
      },
      "source": [
        "def inversa(cadena) :\n",
        "       cadena_inversa = cadena[::-1]\n",
        "       return cadena_inversa\n",
        "n1 = input (\"Introduce La Palabra:\")\n",
        "print(inversa(n1))"
      ],
      "execution_count": null,
      "outputs": []
    },
    {
      "cell_type": "markdown",
      "metadata": {
        "id": "6p-j2cMtyKFk"
      },
      "source": [
        "Ejercicio 5"
      ]
    },
    {
      "cell_type": "code",
      "metadata": {
        "id": "biez-iNZyL3N"
      },
      "source": [
        "ingreso1 = input(\"Ingrese una palabra: \").lower()\n",
        "rever = ingreso1[::-1]\n",
        "if ingreso1 == rever:\n",
        "    print(\"La palabra ingresada si es palindromo!!\")\n",
        "else:\n",
        "    print(\"La palabra ingresada no es palindromo!!\")"
      ],
      "execution_count": null,
      "outputs": []
    },
    {
      "cell_type": "markdown",
      "metadata": {
        "id": "lnzCBSpgymnA"
      },
      "source": [
        "Ejercicio 6"
      ]
    },
    {
      "cell_type": "code",
      "metadata": {
        "id": "pb0YvGrEyojM"
      },
      "source": [
        "productos = {} #Guardamos los datos en un diccionario\n",
        "total = 0 #Almacenará el total de totales\n",
        "\n",
        "while True:\n",
        "    producto = input(\"Nombre De Producto: \")\n",
        "    cantidad = int(input(\"Cantidad de Producto: \"))\n",
        "    precio = int(input(\"Precio Unitario \"))\n",
        "    factura = input(\"Presionar 1 para Terminar Factura: \")\n",
        "    productos[producto] = [producto, cantidad, precio, cantidad*precio] #Alimentamos el diccionario y de una vez calculamos el total por producto\n",
        "    if factura == \"1\":\n",
        "        print(\"Productos: \", list(productos.keys())) #Mostramos los productos en forma de lista pero puedes hacerlo como quieras\n",
        "        for i in productos.keys():\n",
        "            total += productos[i][3] #Sumamos el total de cada producto\n",
        "        break\n",
        "print(\"Precio total: \",total) #Mostramos total de totales"
      ],
      "execution_count": null,
      "outputs": []
    },
    {
      "cell_type": "markdown",
      "metadata": {
        "id": "_b6XW3dNzBjB"
      },
      "source": [
        "Ejercicio 7"
      ]
    },
    {
      "cell_type": "code",
      "metadata": {
        "id": "Kv1EYowyzExW"
      },
      "source": [
        "R_A=0\n",
        "R_B=0\n",
        "R_C=0\n",
        "R_D=0\n",
        "i=1\n",
        "print (\"Ingrese las edades :\")\n",
        "while i<=15:\n",
        " 4\n",
        " print(i,\")Escriba la edad:\")\n",
        " edad=int(input(\"-->\"))\n",
        " if (edad<=17):\n",
        "        R_A=R_A+1\n",
        " elif (edad<=30):\n",
        "        R_B=R_B+1\n",
        " elif (edad<=59):\n",
        "        R_C=R_C+1\n",
        " else: \n",
        "        R_D=R_D+1\n",
        " i=i+1\n",
        "print (\"---------------------------------------------\")\n",
        "print (\"---------------------------------------------\")\n",
        "print(\"PERSONAS CON EDAD ENTRE 1-17 AÑOS: \", R_A)\n",
        "print(\"PERSONAS CON EDAD ENTRE 18-30 AÑOS: \", R_B)\n",
        "print(\"PERSONAS CON EDAD ENTRE 31-59 AÑOS: \", R_C)\n",
        "print(\"PERSONAS CON EDAD DE 60 AÑOS EN ADELANTE: \", R_D)15"
      ],
      "execution_count": null,
      "outputs": []
    },
    {
      "cell_type": "markdown",
      "metadata": {
        "id": "O0t3aKvn0AWJ"
      },
      "source": [
        "Ejercicio 8"
      ]
    },
    {
      "cell_type": "code",
      "metadata": {
        "id": "o9bs6aSf0CJG"
      },
      "source": [
        ""
      ],
      "execution_count": null,
      "outputs": []
    },
    {
      "cell_type": "markdown",
      "metadata": {
        "id": "NxSUcCqpYiEt"
      },
      "source": [
        "Ejercicio 9"
      ]
    },
    {
      "cell_type": "code",
      "metadata": {
        "id": "RaEpuzy3YoBc"
      },
      "source": [
        "contar_vocales=input(\"Escriba una palabra o Frase:\")\n",
        "contar_vocales=frase.lower()\n",
        "vocales=[\"a\",\"e\",\"i\",\"o\",\"u\"]\n",
        "for v in vocales:\n",
        "    iteracion=0\n",
        "    for c in contar_vocales:\n",
        "       if v==c:\n",
        "         iteracion+=1\n",
        "    print(\"La vocal:\",v, \"aparece\", iteracion, \"veces\")"
      ],
      "execution_count": null,
      "outputs": []
    },
    {
      "cell_type": "markdown",
      "metadata": {
        "id": "Fk9q4Y2xqq87"
      },
      "source": [
        "Ejercicio 10 - Este programa pide primeramente la cantidad total de compras de una persona. Si la cantidad es inferior a L. 1000.00, el programa dirá que el cliente no aplica a la promoción. Pero si la persona ingresa una cantidad en compras igual o superior a L.1000.00, el programa genera de forma aleatoria un número entero del cero al cinco. Cada número corresponderá a un color diferente de cinco colores de bolas que hay para determinar el descuento que el cliente recibirá como premio. Si la bola aleatoria es color blanco, no hay descuento, pero si es uno de los otros cuatro colores, sí se aplicará un descuento determinado según la tabla que aparecerá (1. Blanco = 0%, 2. = Azul = 3%, 3. Rojo =5%, 4. verde = 7%, 5. Amarillo = 10%) , y ese descuento se aplicará sobre el total de compra que introdujo inicialmente el usuario, de manera que el programa mostrará un nuevo valor a pagar luego de haber aplicado el descuento.\n",
        "MODIFICARLO\n",
        "\n"
      ]
    },
    {
      "cell_type": "code",
      "metadata": {
        "id": "aAWlex7bu-lS"
      },
      "source": [
        "from random import randint\n",
        "total = float(input('Total compra:'))\n",
        "if total <= 1000:\n",
        "  print('No aplica a la promoción')\n",
        "elif total > 1000:\n",
        "  valRandom = randint(1,5)\n",
        "  informacion = 'Porcentaje de descuento:\\n1.Blanco: 0%\\n2.Azul: 3%\\n3.Rojo: 5%\\n4.Verde: 7%\\n5.Amarillo: 10%'\n",
        "  mi_diccionario = {\n",
        "      1: 0,\n",
        "      2: 0.03,\n",
        "      3: 0.05,\n",
        "      4: 0.07,\n",
        "      5: 0.10\n",
        "      }\n",
        "print(informacion)\n",
        "print(f'Descuento Aplicado:{valRandom}')\n",
        "totalPagar=total*mi_diccionario[valRandom]\n",
        "print(f'Total a pagar: {total-totalPagar}')"
      ],
      "execution_count": null,
      "outputs": []
    },
    {
      "cell_type": "markdown",
      "metadata": {
        "id": "e8RjYWwZRZO-"
      },
      "source": [
        "Ejercicio 11"
      ]
    },
    {
      "cell_type": "code",
      "metadata": {
        "id": "vQgMHa_DUdsN"
      },
      "source": [
        "suma = 0\n",
        "while True:\n",
        "    numero = input(\"Ingrese un número: \")\n",
        "    try:\n",
        "        numero = int(numero)\n",
        "    except ValueError:\n",
        "        print(\"Error, debe ingresar un número\")\n",
        "        continue\n",
        "    if suma + numero > 100:\n",
        "        break\n",
        "    suma += numero\n",
        "\n",
        "print(\"La suma es:\", suma)\n",
        "   \n",
        "   "
      ],
      "execution_count": null,
      "outputs": []
    },
    {
      "cell_type": "markdown",
      "metadata": {
        "id": "NRz9ELkrbzSt"
      },
      "source": [
        "12. Programa que solicite ingresar la nota de 10 alumnos, el programa debe MOSTRAR reprobados y reprobados, nota promedio, la mayor y la menor."
      ]
    },
    {
      "cell_type": "code",
      "metadata": {
        "id": "AJyPbe6qR3Qx"
      },
      "source": [
        "print(\"Escriba 0 para terminar el programa\")\n",
        "notas = []\n",
        "while True:\n",
        "  nota = float(input(\"Ingrese nota: \"))\n",
        "  if nota == 0:\n",
        "    print(\"Saliendo... \")\n",
        "    break\n",
        "  #comprobar que la nota este en el rango 1-10\n",
        "  if not nota > 10:\n",
        "    notas.append(nota)\n",
        "  else: \n",
        "    # si no lo esta vuelve a pedir la nota\n",
        "    print(\"Asegurate que la nota este en rango (1-10)\")\n",
        "    continue\n",
        "  #cuando la lista tenga ya 10 notas dejara de pedir nota\n",
        "  if len(notas) == 10:\n",
        "    break\n",
        "aplazados = 0\n",
        "aprobados = 0\n",
        "notables = 0\n",
        "promedio = 0\n",
        "for nota in notas:\n",
        "  if nota < 4:\n",
        "    aplazados += 1\n",
        "  elif nota <= 4 or nota <= 7:\n",
        "    aprobados += 1\n",
        "  elif nota > 7: \n",
        "    notables += 1\n",
        "    suma= 0\n",
        "    for nota in notas:\n",
        "      suma+=nota\n",
        "      promedio = suma/10\n",
        "print(f\"\"\"\n",
        "Aplazados: {aplazados}\n",
        "Aprobados: {aprobados}\n",
        "Notables: {notables}\n",
        "Promedio: {promedio}\n",
        "\"\"\")\n"
      ],
      "execution_count": null,
      "outputs": []
    }
  ]
}